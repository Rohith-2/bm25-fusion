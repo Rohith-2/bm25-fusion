{
 "cells": [
  {
   "cell_type": "code",
   "execution_count": 1,
   "metadata": {},
   "outputs": [],
   "source": [
    "import os\n",
    "os.chdir('..')"
   ]
  },
  {
   "cell_type": "code",
   "execution_count": 2,
   "metadata": {},
   "outputs": [
    {
     "name": "stderr",
     "output_type": "stream",
     "text": [
      "[nltk_data] Downloading package stopwords to\n",
      "[nltk_data]     /Users/rohith/nltk_data...\n",
      "[nltk_data]   Package stopwords is already up-to-date!\n",
      "[nltk_data] Downloading package stopwords to\n",
      "[nltk_data]     /Users/rohith/nltk_data...\n",
      "[nltk_data]   Package stopwords is already up-to-date!\n"
     ]
    }
   ],
   "source": [
    "from src.bm25_fusion.core import BM25\n",
    "from src.bm25_fusion.tokenization import tokenize"
   ]
  },
  {
   "cell_type": "code",
   "execution_count": 3,
   "metadata": {},
   "outputs": [],
   "source": [
    "\n",
    "# Dummy data\n",
    "documents = [\n",
    "    \"The quick brown fox jumps over the lazy dog news\",\n",
    "    \"Never jump over the lazy dog quickly science\",\n",
    "    \"A quick brown dog outpaces a quick fox news\"\n",
    "]"
   ]
  },
  {
   "cell_type": "code",
   "execution_count": 4,
   "metadata": {},
   "outputs": [],
   "source": [
    "corpus_tokens = [tokenize(doc) for doc in documents]\n",
    "metadata = [{\"category\": \"news\"}, {\"category\": \"science\"}, {\"category\": \"news\"}]\n",
    "bm25 = BM25(corpus_tokens, metadata=metadata, texts=documents,\\\n",
    "                variant=\"bm25\", stopwords={\"is\", \"a\", \"the\", \"and\"})"
   ]
  },
  {
   "cell_type": "code",
   "execution_count": 5,
   "metadata": {},
   "outputs": [],
   "source": [
    "\n",
    "results = bm25.query([\"fox\"], metadata_filter={\"category\": \"news\"}, top_k=2)"
   ]
  },
  {
   "cell_type": "code",
   "execution_count": 6,
   "metadata": {},
   "outputs": [
    {
     "data": {
      "text/plain": [
       "[{'text': 'A quick brown dog outpaces a quick fox news',\n",
       "  'score': 1.470003604888916,\n",
       "  'category': 'news'},\n",
       " {'text': 'The quick brown fox jumps over the lazy dog news',\n",
       "  'score': 1.447622537612915,\n",
       "  'category': 'news'}]"
      ]
     },
     "execution_count": 6,
     "metadata": {},
     "output_type": "execute_result"
    }
   ],
   "source": [
    "results"
   ]
  }
 ],
 "metadata": {
  "kernelspec": {
   "display_name": "Python 3",
   "language": "python",
   "name": "python3"
  },
  "language_info": {
   "codemirror_mode": {
    "name": "ipython",
    "version": 3
   },
   "file_extension": ".py",
   "mimetype": "text/x-python",
   "name": "python",
   "nbconvert_exporter": "python",
   "pygments_lexer": "ipython3",
   "version": "3.10.16"
  }
 },
 "nbformat": 4,
 "nbformat_minor": 2
}
