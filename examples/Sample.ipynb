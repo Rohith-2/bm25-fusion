{
 "cells": [
  {
   "cell_type": "code",
   "execution_count": 1,
   "metadata": {},
   "outputs": [
    {
     "name": "stderr",
     "output_type": "stream",
     "text": [
      "[nltk_data] Downloading package punkt to /Users/rohith/nltk_data...\n",
      "[nltk_data]   Package punkt is already up-to-date!\n",
      "[nltk_data] Downloading package punkt_tab to\n",
      "[nltk_data]     /Users/rohith/nltk_data...\n",
      "[nltk_data]   Package punkt_tab is already up-to-date!\n",
      "[nltk_data] Downloading package stopwords to\n",
      "[nltk_data]     /Users/rohith/nltk_data...\n",
      "[nltk_data]   Package stopwords is already up-to-date!\n"
     ]
    },
    {
     "data": {
      "text/plain": [
       "True"
      ]
     },
     "execution_count": 1,
     "metadata": {},
     "output_type": "execute_result"
    }
   ],
   "source": [
    "from bm25_fusion.core import BM25\n",
    "import nltk\n",
    "nltk.download('punkt')\n",
    "nltk.download('punkt_tab')\n",
    "nltk.download('stopwords')"
   ]
  },
  {
   "cell_type": "code",
   "execution_count": 2,
   "metadata": {},
   "outputs": [],
   "source": [
    "\n",
    "# Dummy data\n",
    "documents = [\n",
    "    \"The quick brown fox jumps over the lazy dog news\",\n",
    "    \"Never jump over the lazy dog quickly science\",\n",
    "    \"A quick brown dog outpaces a quick fox news\"\n",
    "]"
   ]
  },
  {
   "cell_type": "code",
   "execution_count": 3,
   "metadata": {},
   "outputs": [
    {
     "name": "stderr",
     "output_type": "stream",
     "text": [
      "100%|██████████| 3/3 [00:00<00:00, 57.33it/s]\n"
     ]
    }
   ],
   "source": [
    "metadata = [{\"category\": \"news\"}, {\"category\": \"science\"}, {\"category\": \"news\"}]\n",
    "bm25 = BM25(metadata=metadata, texts=documents,\\\n",
    "                variant=\"bm25\", stopwords={\"is\", \"a\", \"the\", \"and\"})"
   ]
  },
  {
   "cell_type": "code",
   "execution_count": 4,
   "metadata": {},
   "outputs": [],
   "source": [
    "\n",
    "results = bm25.query([\"fox\"], metadata_filter={\"category\": \"news\"}, top_k=2)"
   ]
  },
  {
   "cell_type": "code",
   "execution_count": 5,
   "metadata": {},
   "outputs": [
    {
     "data": {
      "text/plain": [
       "[{'text': 'The quick brown fox jumps over the lazy dog news',\n",
       "  'score': 1.0,\n",
       "  'category': 'news'},\n",
       " {'text': 'A quick brown dog outpaces a quick fox news',\n",
       "  'score': 1.0,\n",
       "  'category': 'news'}]"
      ]
     },
     "execution_count": 5,
     "metadata": {},
     "output_type": "execute_result"
    }
   ],
   "source": [
    "results"
   ]
  },
  {
   "cell_type": "code",
   "execution_count": 6,
   "metadata": {},
   "outputs": [],
   "source": [
    "bm25.save(\"bm25_model.pkl\")"
   ]
  },
  {
   "cell_type": "code",
   "execution_count": null,
   "metadata": {},
   "outputs": [
    {
     "data": {
      "text/plain": [
       "[{'text': 'The quick brown fox jumps over the lazy dog news',\n",
       "  'score': 1.0,\n",
       "  'category': 'news'},\n",
       " {'text': 'A quick brown dog outpaces a quick fox news',\n",
       "  'score': 1.0,\n",
       "  'category': 'news'}]"
      ]
     },
     "execution_count": 7,
     "metadata": {},
     "output_type": "execute_result"
    }
   ],
   "source": [
    "bm25 = BM25.load(\"bm25_model.pkl\")\n",
    "results = bm25.query([\"fox\"], metadata_filter={\"category\": \"news\"}, top_k=2)\n",
    "results"
   ]
  },
  {
   "cell_type": "code",
   "execution_count": 8,
   "metadata": {},
   "outputs": [
    {
     "name": "stderr",
     "output_type": "stream",
     "text": [
      "100%|██████████| 4/4 [00:00<00:00, 71.60it/s]\n"
     ]
    }
   ],
   "source": [
    "bm25.add_document([\"The quick brown egg jumps over the lazy dog news\"], [{\"category\": \"facts\"}])"
   ]
  },
  {
   "cell_type": "code",
   "execution_count": 9,
   "metadata": {},
   "outputs": [
    {
     "data": {
      "text/plain": [
       "[{'text': 'The quick brown egg jumps over the lazy dog news',\n",
       "  'score': 1.0,\n",
       "  'category': 'facts'}]"
      ]
     },
     "execution_count": 9,
     "metadata": {},
     "output_type": "execute_result"
    }
   ],
   "source": [
    "\n",
    "results = bm25.query([\"egg\"], metadata_filter={\"category\": \"facts\"}, top_k=2)\n",
    "results"
   ]
  }
 ],
 "metadata": {
  "kernelspec": {
   "display_name": ".conda",
   "language": "python",
   "name": "python3"
  },
  "language_info": {
   "codemirror_mode": {
    "name": "ipython",
    "version": 3
   },
   "file_extension": ".py",
   "mimetype": "text/x-python",
   "name": "python",
   "nbconvert_exporter": "python",
   "pygments_lexer": "ipython3",
   "version": "3.11.11"
  }
 },
 "nbformat": 4,
 "nbformat_minor": 2
}
