{
 "cells": [
  {
   "cell_type": "code",
   "execution_count": 1,
   "metadata": {},
   "outputs": [],
   "source": [
    "from bm25_fusion import BM25\n",
    "# import nltk\n",
    "# nltk.download('punkt')\n",
    "# nltk.download('punkt_tab')\n",
    "# nltk.download('stopwords')"
   ]
  },
  {
   "cell_type": "code",
   "execution_count": 2,
   "metadata": {},
   "outputs": [],
   "source": [
    "# Dummy data\n",
    "documents = [\n",
    "    \"The quick brown fox jumps over the lazy dog news\",\n",
    "    \"Never jump over the lazy dog quickly science\",\n",
    "    \"A quick brown dog outpaces a quick fox news\"\n",
    "]"
   ]
  },
  {
   "cell_type": "code",
   "execution_count": 3,
   "metadata": {},
   "outputs": [
    {
     "name": "stderr",
     "output_type": "stream",
     "text": [
      "100%|██████████| 3/3 [00:00<00:00, 69.62it/s]\n"
     ]
    }
   ],
   "source": [
    "metadata = [{\"category\": \"news\"}, {\"category\": \"science\"}, {\"category\": \"facts\"}]\n",
    "bm25 = BM25(metadata=metadata, texts=documents,\\\n",
    "                variant=\"bm25+\", stopwords={\"is\", \"a\", \"the\", \"and\"})"
   ]
  },
  {
   "cell_type": "code",
   "execution_count": 4,
   "metadata": {},
   "outputs": [
    {
     "name": "stderr",
     "output_type": "stream",
     "text": [
      "/Users/rohith/Documents/Projects/bm25-fusion/src/bm25_fusion/core.py:399: NumbaTypeSafetyWarning: unsafe cast from uint64 to int64. Precision may be lost.\n",
      "  if int(texts[i].find(keyword)) != -1:\n"
     ]
    },
    {
     "data": {
      "text/plain": [
       "[{'text': 'The quick brown fox jumps over the lazy dog news',\n",
       "  'score': 1.0,\n",
       "  'category': 'news'},\n",
       " {'text': 'A quick brown dog outpaces a quick fox news',\n",
       "  'score': 1.0,\n",
       "  'category': 'facts'}]"
      ]
     },
     "execution_count": 4,
     "metadata": {},
     "output_type": "execute_result"
    }
   ],
   "source": [
    "results = bm25.query([\"fox\"], metadata_filter={\"category\": [\"news\",\"facts\"]}, top_k=2)\n",
    "results"
   ]
  },
  {
   "cell_type": "code",
   "execution_count": 9,
   "metadata": {},
   "outputs": [],
   "source": [
    "bm25.save(\"bm25_model.pkl.gz\")\n",
    "bm25.save_hdf5(\"bm25_model.h5\")"
   ]
  },
  {
   "cell_type": "code",
   "execution_count": null,
   "metadata": {},
   "outputs": [
    {
     "data": {
      "text/plain": [
       "[{'text': 'The quick brown fox jumps over the lazy dog news',\n",
       "  'score': 1.0,\n",
       "  'category': 'news'}]"
      ]
     },
     "execution_count": 6,
     "metadata": {},
     "output_type": "execute_result"
    }
   ],
   "source": [
    "bm25 = BM25.load_hdf5(\"bm25_model.h5\")\n",
    "results = bm25.query([\"fox\"], metadata_filter={\"category\": \"news\"}, top_k=2)\n",
    "results"
   ]
  },
  {
   "cell_type": "code",
   "execution_count": 7,
   "metadata": {},
   "outputs": [
    {
     "name": "stderr",
     "output_type": "stream",
     "text": [
      "100%|██████████| 4/4 [00:00<00:00, 53.36it/s]\n"
     ]
    }
   ],
   "source": [
    "bm25.add_document([\"The quick brown egg jumps over the lazy dog news\"], [{\"category\": \"facts\"}])"
   ]
  },
  {
   "cell_type": "code",
   "execution_count": 8,
   "metadata": {},
   "outputs": [
    {
     "data": {
      "text/plain": [
       "[{'text': 'The quick brown egg jumps over the lazy dog news',\n",
       "  'score': 1.0,\n",
       "  'category': 'facts'}]"
      ]
     },
     "execution_count": 8,
     "metadata": {},
     "output_type": "execute_result"
    }
   ],
   "source": [
    "\n",
    "results = bm25.query([\"egg\"], metadata_filter={\"category\": \"facts\"}, top_k=2)\n",
    "results"
   ]
  },
  {
   "cell_type": "code",
   "execution_count": 11,
   "metadata": {},
   "outputs": [
    {
     "name": "stderr",
     "output_type": "stream",
     "text": [
      "100%|██████████| 5/5 [00:00<00:00, 73.92it/s]"
     ]
    },
    {
     "name": "stderr",
     "output_type": "stream",
     "text": [
      "\n"
     ]
    },
    {
     "data": {
      "text/plain": [
       "[{'text': 'The quick brown fox jumps over the lazy dog news',\n",
       "  'score': 1.0,\n",
       "  'category': 'news'},\n",
       " {'text': 'A quick brown dog outpaces a quick fox news',\n",
       "  'score': 1.0,\n",
       "  'category': 'facts'},\n",
       " {'text': 'The quick brown egg jumps over the lazy fox news',\n",
       "  'score': 1.0,\n",
       "  'category': 'facts'}]"
      ]
     },
     "execution_count": 11,
     "metadata": {},
     "output_type": "execute_result"
    }
   ],
   "source": [
    "bm25_hdf5 = BM25.load_hdf5(\"bm25_model.h5\")\n",
    "bm25_hdf5.add_document([\"The quick brown egg jumps over the lazy fox news\"], [{\"category\": \"facts\"}])\n",
    "results = bm25_hdf5.query([\"fox\"], metadata_filter={\"category\": [\"news\",\"facts\"]}, top_k=3)\n",
    "results"
   ]
  }
 ],
 "metadata": {
  "kernelspec": {
   "display_name": "Python 3",
   "language": "python",
   "name": "python3"
  },
  "language_info": {
   "codemirror_mode": {
    "name": "ipython",
    "version": 3
   },
   "file_extension": ".py",
   "mimetype": "text/x-python",
   "name": "python",
   "nbconvert_exporter": "python",
   "pygments_lexer": "ipython3",
   "version": "3.8.20"
  }
 },
 "nbformat": 4,
 "nbformat_minor": 2
}
