{
 "cells": [
  {
   "cell_type": "code",
   "execution_count": 7,
   "metadata": {},
   "outputs": [
    {
     "name": "stderr",
     "output_type": "stream",
     "text": [
      "/Users/rohith/Documents/Projects/bm25-fusion/bm/lib/python3.11/pty.py:89: RuntimeWarning: os.fork() was called. os.fork() is incompatible with multithreaded code, and JAX is multithreaded, so this will likely lead to a deadlock.\n",
      "  pid, fd = os.forkpty()\n"
     ]
    },
    {
     "name": "stdout",
     "output_type": "stream",
     "text": [
      "Requirement already satisfied: bm25_fusion in /Users/rohith/Documents/Projects/bm25-fusion/bm/lib/python3.11/site-packages (0.1.2)\n",
      "Collecting bm25_fusion\n",
      "  Downloading bm25_fusion-0.1.2.1-py3-none-any.whl.metadata (6.0 kB)\n",
      "Requirement already satisfied: numpy in /Users/rohith/Documents/Projects/bm25-fusion/bm/lib/python3.11/site-packages (from bm25_fusion) (2.1.3)\n",
      "Requirement already satisfied: scipy in /Users/rohith/Documents/Projects/bm25-fusion/bm/lib/python3.11/site-packages (from bm25_fusion) (1.15.2)\n",
      "Requirement already satisfied: numba in /Users/rohith/Documents/Projects/bm25-fusion/bm/lib/python3.11/site-packages (from bm25_fusion) (0.61.0)\n",
      "Requirement already satisfied: jax in /Users/rohith/Documents/Projects/bm25-fusion/bm/lib/python3.11/site-packages (from bm25_fusion) (0.4.38)\n",
      "Requirement already satisfied: nltk in /Users/rohith/Documents/Projects/bm25-fusion/bm/lib/python3.11/site-packages (from bm25_fusion) (3.9.1)\n",
      "Requirement already satisfied: jaxlib<=0.4.38,>=0.4.38 in /Users/rohith/Documents/Projects/bm25-fusion/bm/lib/python3.11/site-packages (from jax->bm25_fusion) (0.4.38)\n",
      "Requirement already satisfied: ml_dtypes>=0.4.0 in /Users/rohith/Documents/Projects/bm25-fusion/bm/lib/python3.11/site-packages (from jax->bm25_fusion) (0.5.1)\n",
      "Requirement already satisfied: opt_einsum in /Users/rohith/Documents/Projects/bm25-fusion/bm/lib/python3.11/site-packages (from jax->bm25_fusion) (3.4.0)\n",
      "Requirement already satisfied: click in /Users/rohith/Documents/Projects/bm25-fusion/bm/lib/python3.11/site-packages (from nltk->bm25_fusion) (8.1.8)\n",
      "Requirement already satisfied: joblib in /Users/rohith/Documents/Projects/bm25-fusion/bm/lib/python3.11/site-packages (from nltk->bm25_fusion) (1.4.2)\n",
      "Requirement already satisfied: regex>=2021.8.3 in /Users/rohith/Documents/Projects/bm25-fusion/bm/lib/python3.11/site-packages (from nltk->bm25_fusion) (2024.11.6)\n",
      "Requirement already satisfied: tqdm in /Users/rohith/Documents/Projects/bm25-fusion/bm/lib/python3.11/site-packages (from nltk->bm25_fusion) (4.67.1)\n",
      "Requirement already satisfied: llvmlite<0.45,>=0.44.0dev0 in /Users/rohith/Documents/Projects/bm25-fusion/bm/lib/python3.11/site-packages (from numba->bm25_fusion) (0.44.0)\n",
      "Downloading bm25_fusion-0.1.2.1-py3-none-any.whl (9.0 kB)\n",
      "Installing collected packages: bm25_fusion\n",
      "  Attempting uninstall: bm25_fusion\n",
      "    Found existing installation: bm25_fusion 0.1.2\n",
      "    Uninstalling bm25_fusion-0.1.2:\n",
      "      Successfully uninstalled bm25_fusion-0.1.2\n",
      "Successfully installed bm25_fusion-0.1.2.1\n"
     ]
    }
   ],
   "source": [
    "!pip install bm25_fusion -U"
   ]
  },
  {
   "cell_type": "code",
   "execution_count": 8,
   "metadata": {},
   "outputs": [],
   "source": [
    "from bm25_fusion import BM25"
   ]
  },
  {
   "cell_type": "code",
   "execution_count": 9,
   "metadata": {},
   "outputs": [],
   "source": [
    "    \n",
    "# Sample texts (original documents in string format)\n",
    "texts = [\n",
    "    \"Hello world, this is a document.\",\n",
    "    \"Machine learning is fun with JAX.\",\n",
    "    \"This is another document with JAX.\",\n",
    "    \"Hello, this is JAX optimization.\"\n",
    "]*1000\n",
    "\n",
    "# Example metadata (let's assume we have some metadata)\n",
    "metadata = [\n",
    "    {\"author\": \"Alice\", \"year\": 2021},\n",
    "    {\"author\": \"Bob\", \"year\": 2022},\n",
    "    {\"author\": \"Charlie\", \"year\": 2021},\n",
    "    {\"author\": \"Alice\", \"year\": 2023},\n",
    "]*1000\n",
    "\n",
    "# Create an instance of BM25Optimized\n",
    "bm25 = BM25(texts=texts,metadata=metadata, k1=1.5, b=0.75, delta=0.5,variant='bm25+')\n"
   ]
  },
  {
   "cell_type": "code",
   "execution_count": 10,
   "metadata": {},
   "outputs": [],
   "source": [
    "\n",
    "bm25.add_document(['This is the hello document with jax in it'], [{'author': 'Me', 'year': 2021}])\n"
   ]
  },
  {
   "cell_type": "code",
   "execution_count": 11,
   "metadata": {},
   "outputs": [],
   "source": [
    "# Define query tokens (tokenized search query)\n",
    "query = \"hello jax\"\n",
    "\n",
    "# Define metadata filter (e.g., find documents written by Alice)\n",
    "metadata_filter = {\"author\": \"Alice\"}\n",
    "\n",
    "# Perform query with keyword match bonus and metadata filtering\n",
    "top_k_results = bm25.query(query, top_k=2, metadata_filter=metadata_filter)\n"
   ]
  },
  {
   "cell_type": "code",
   "execution_count": 12,
   "metadata": {},
   "outputs": [
    {
     "name": "stdout",
     "output_type": "stream",
     "text": [
      "Top K results:\n",
      "{'Texts': 'Hello, this is JAX optimization.', 'author': 'Alice', 'year': 2023, 'Score': 9.0} \n",
      "\n",
      "{'Texts': 'Hello, this is JAX optimization.', 'author': 'Alice', 'year': 2023, 'Score': 9.0} \n",
      "\n"
     ]
    }
   ],
   "source": [
    "# Display the top-k results\n",
    "print(\"Top K results:\")\n",
    "for doc in top_k_results:\n",
    "    print(doc, \"\\n\")"
   ]
  }
 ],
 "metadata": {
  "kernelspec": {
   "display_name": "Python 3",
   "language": "python",
   "name": "python3"
  },
  "language_info": {
   "codemirror_mode": {
    "name": "ipython",
    "version": 3
   },
   "file_extension": ".py",
   "mimetype": "text/x-python",
   "name": "python",
   "nbconvert_exporter": "python",
   "pygments_lexer": "ipython3",
   "version": "3.11.11"
  }
 },
 "nbformat": 4,
 "nbformat_minor": 2
}
