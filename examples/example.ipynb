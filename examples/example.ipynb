{
 "cells": [
  {
   "cell_type": "code",
   "execution_count": 1,
   "metadata": {},
   "outputs": [],
   "source": [
    "import os \n",
    "os.chdir('../src/bm25_fusion/')"
   ]
  },
  {
   "cell_type": "code",
   "execution_count": 2,
   "metadata": {},
   "outputs": [],
   "source": [
    "from core import BM25"
   ]
  },
  {
   "cell_type": "code",
   "execution_count": 3,
   "metadata": {},
   "outputs": [],
   "source": [
    "    \n",
    "# Sample texts (original documents in string format)\n",
    "texts = [\n",
    "    \"Hello world, this is a document.\",\n",
    "    \"Machine learning is fun with JAX.\",\n",
    "    \"This is another document with JAX.\",\n",
    "    \"Hello, this is JAX optimization.\"\n",
    "]*100000\n",
    "\n",
    "# Example metadata (let's assume we have some metadata)\n",
    "metadata = [\n",
    "    {\"author\": \"Alice\", \"year\": 2021},\n",
    "    {\"author\": \"Bob\", \"year\": 2022},\n",
    "    {\"author\": \"Charlie\", \"year\": 2021},\n",
    "    {\"author\": \"Alice\", \"year\": 2023},\n",
    "]*100000\n",
    "\n",
    "# Create an instance of BM25Optimized\n",
    "bm25 = BM25(texts=texts,metadata=metadata, k1=1.5, b=0.75, delta=0.5,variant='bm25+')\n"
   ]
  },
  {
   "cell_type": "code",
   "execution_count": 5,
   "metadata": {},
   "outputs": [],
   "source": [
    "\n",
    "bm25.add_document(['This is the hello document with jax in it'], [{'author': 'Me', 'year': 2021}])\n"
   ]
  },
  {
   "cell_type": "code",
   "execution_count": null,
   "metadata": {},
   "outputs": [],
   "source": [
    "# Define query tokens (tokenized search query)\n",
    "query = \"hello jax\"\n",
    "\n",
    "# Define metadata filter (e.g., find documents written by Alice)\n",
    "metadata_filter = {\"author\": \"Alice\"}\n",
    "\n",
    "# Perform query with keyword match bonus and metadata filtering\n",
    "top_k_results = bm25.query(query, top_k=2, metadata_filter=metadata_filter)\n"
   ]
  },
  {
   "cell_type": "code",
   "execution_count": 8,
   "metadata": {},
   "outputs": [
    {
     "name": "stdout",
     "output_type": "stream",
     "text": [
      "Top K results:\n",
      "{'Texts': 'Hello, this is JAX optimization.', 'author': 'Alice', 'year': 2023, 'Score': 9.0} \n",
      "\n",
      "{'Texts': 'Hello, this is JAX optimization.', 'author': 'Alice', 'year': 2023, 'Score': 9.0} \n",
      "\n"
     ]
    }
   ],
   "source": [
    "# Display the top-k results\n",
    "print(\"Top K results:\")\n",
    "for doc in top_k_results:\n",
    "    print(doc, \"\\n\")"
   ]
  },
  {
   "cell_type": "code",
   "execution_count": null,
   "metadata": {},
   "outputs": [],
   "source": []
  }
 ],
 "metadata": {
  "kernelspec": {
   "display_name": "bm",
   "language": "python",
   "name": "python3"
  },
  "language_info": {
   "codemirror_mode": {
    "name": "ipython",
    "version": 3
   },
   "file_extension": ".py",
   "mimetype": "text/x-python",
   "name": "python",
   "nbconvert_exporter": "python",
   "pygments_lexer": "ipython3",
   "version": "3.11.11"
  }
 },
 "nbformat": 4,
 "nbformat_minor": 2
}
